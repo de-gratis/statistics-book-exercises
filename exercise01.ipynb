{
  "cells": [
    {
      "cell_type": "markdown",
      "metadata": {
        "id": "joqIUKuwZJC_"
      },
      "source": [
        "Os dados abaixo são referente a alturas em cm de 20 alunos:\n",
        "\n",
        "![table 01.jpg](assets/table01.jpg)\n",
        "\n",
        "Construa a distribuição de frequências por classes de valores colocando o _fi_, _fa_, _fr_ e _fra_."
      ]
    },
    {
      "cell_type": "code",
      "execution_count": 111,
      "metadata": {
        "id": "cprMf3oiYojp"
      },
      "outputs": [],
      "source": [
        "import pandas as pd\n",
        "import numpy as np"
      ]
    },
    {
      "cell_type": "code",
      "execution_count": 112,
      "metadata": {
        "id": "skTHYVTpW4ot"
      },
      "outputs": [],
      "source": [
        "data = [151, 157, 158, 156, 160,\n",
        "        176, 150, 149, 162, 153,\n",
        "        163, 170, 172, 171, 164,\n",
        "        173, 166, 165, 160, 158]"
      ]
    },
    {
      "cell_type": "code",
      "execution_count": 113,
      "metadata": {},
      "outputs": [
        {
          "data": {
            "text/plain": [
              "27"
            ]
          },
          "execution_count": 113,
          "metadata": {},
          "output_type": "execute_result"
        }
      ],
      "source": [
        "amplitude_maxima = max(data) - min(data)  # 176 - 149\n",
        "amplitude_maxima"
      ]
    },
    {
      "cell_type": "code",
      "execution_count": 114,
      "metadata": {},
      "outputs": [
        {
          "data": {
            "text/plain": [
              "9.0"
            ]
          },
          "execution_count": 114,
          "metadata": {},
          "output_type": "execute_result"
        }
      ],
      "source": [
        "faixa_classes = amplitude_maxima / 3  # o 3 é a largura_classe\n",
        "faixa_classes"
      ]
    },
    {
      "cell_type": "code",
      "execution_count": 115,
      "metadata": {},
      "outputs": [
        {
          "data": {
            "text/plain": [
              "array([148., 158., 167., 176.])"
            ]
          },
          "execution_count": 115,
          "metadata": {},
          "output_type": "execute_result"
        }
      ],
      "source": [
        "intervalos = np.arange(min(data), max(data) + 1, faixa_classes)\n",
        "intervalos[0] = intervalos[0] - 1\n",
        "intervalos"
      ]
    },
    {
      "cell_type": "markdown",
      "metadata": {},
      "source": [
        "### Cálculo para _fi_"
      ]
    },
    {
      "cell_type": "code",
      "execution_count": 116,
      "metadata": {
        "id": "XhDeoGOhY21u"
      },
      "outputs": [],
      "source": [
        "df = pd.cut(data, bins=intervalos, labels=['149 |-- 158', '158 |-- 167', '167 |-- 176']).value_counts().to_frame().reset_index()\n",
        "df.columns = ['Alturas em cm', 'fi']"
      ]
    },
    {
      "cell_type": "markdown",
      "metadata": {},
      "source": [
        "### Cálculo para _fa_"
      ]
    },
    {
      "cell_type": "code",
      "execution_count": 117,
      "metadata": {},
      "outputs": [],
      "source": [
        "df['fa'] = df['fi'].cumsum()"
      ]
    },
    {
      "cell_type": "markdown",
      "metadata": {},
      "source": [
        "### Cálculo para _fr_"
      ]
    },
    {
      "cell_type": "code",
      "execution_count": 118,
      "metadata": {},
      "outputs": [],
      "source": [
        "nums = df['fi'] / df['fi'].sum() * 100\n",
        "df['fr'] = [f'{num}%' for num in nums]"
      ]
    },
    {
      "cell_type": "markdown",
      "metadata": {},
      "source": [
        "### Cálculo para _fra_"
      ]
    },
    {
      "cell_type": "code",
      "execution_count": 119,
      "metadata": {},
      "outputs": [],
      "source": [
        "df['fra'] = [f'{num}%' for num in nums.cumsum()]"
      ]
    },
    {
      "cell_type": "markdown",
      "metadata": {},
      "source": [
        "### Display da tabela"
      ]
    },
    {
      "cell_type": "code",
      "execution_count": 120,
      "metadata": {},
      "outputs": [
        {
          "data": {
            "text/html": [
              "<div>\n",
              "<style scoped>\n",
              "    .dataframe tbody tr th:only-of-type {\n",
              "        vertical-align: middle;\n",
              "    }\n",
              "\n",
              "    .dataframe tbody tr th {\n",
              "        vertical-align: top;\n",
              "    }\n",
              "\n",
              "    .dataframe thead th {\n",
              "        text-align: right;\n",
              "    }\n",
              "</style>\n",
              "<table border=\"1\" class=\"dataframe\">\n",
              "  <thead>\n",
              "    <tr style=\"text-align: right;\">\n",
              "      <th></th>\n",
              "      <th>Alturas em cm</th>\n",
              "      <th>fi</th>\n",
              "      <th>fa</th>\n",
              "      <th>fr</th>\n",
              "      <th>fra</th>\n",
              "    </tr>\n",
              "  </thead>\n",
              "  <tbody>\n",
              "    <tr>\n",
              "      <th>0</th>\n",
              "      <td>149 |-- 158</td>\n",
              "      <td>8</td>\n",
              "      <td>8</td>\n",
              "      <td>40.0%</td>\n",
              "      <td>40.0%</td>\n",
              "    </tr>\n",
              "    <tr>\n",
              "      <th>1</th>\n",
              "      <td>158 |-- 167</td>\n",
              "      <td>7</td>\n",
              "      <td>15</td>\n",
              "      <td>35.0%</td>\n",
              "      <td>75.0%</td>\n",
              "    </tr>\n",
              "    <tr>\n",
              "      <th>2</th>\n",
              "      <td>167 |-- 176</td>\n",
              "      <td>5</td>\n",
              "      <td>20</td>\n",
              "      <td>25.0%</td>\n",
              "      <td>100.0%</td>\n",
              "    </tr>\n",
              "  </tbody>\n",
              "</table>\n",
              "</div>"
            ],
            "text/plain": [
              "  Alturas em cm  fi  fa     fr     fra\n",
              "0   149 |-- 158   8   8  40.0%   40.0%\n",
              "1   158 |-- 167   7  15  35.0%   75.0%\n",
              "2   167 |-- 176   5  20  25.0%  100.0%"
            ]
          },
          "execution_count": 120,
          "metadata": {},
          "output_type": "execute_result"
        }
      ],
      "source": [
        "df"
      ]
    },
    {
      "cell_type": "code",
      "execution_count": null,
      "metadata": {},
      "outputs": [],
      "source": []
    }
  ],
  "metadata": {
    "colab": {
      "provenance": []
    },
    "kernelspec": {
      "display_name": "Python 3",
      "name": "python3"
    },
    "language_info": {
      "codemirror_mode": {
        "name": "ipython",
        "version": 3
      },
      "file_extension": ".py",
      "mimetype": "text/x-python",
      "name": "python",
      "nbconvert_exporter": "python",
      "pygments_lexer": "ipython3",
      "version": "3.11.1"
    }
  },
  "nbformat": 4,
  "nbformat_minor": 0
}
