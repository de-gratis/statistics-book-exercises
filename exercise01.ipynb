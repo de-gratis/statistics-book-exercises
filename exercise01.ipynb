{
  "cells": [
    {
      "cell_type": "markdown",
      "metadata": {
        "id": "joqIUKuwZJC_"
      },
      "source": [
        "Os dados abaixo são referente a alturas em cm de 20 alunos:\n",
        "\n",
        "![table 01.jpg](assets/table01.jpg)\n",
        "\n",
        "Construa a distribuição de frequências por classes de valores colocando o _fi_, _fa_, _fr_ e _fra_."
      ]
    },
    {
      "cell_type": "code",
      "execution_count": 30,
      "metadata": {
        "id": "cprMf3oiYojp"
      },
      "outputs": [],
      "source": [
        "import pandas as pd\n",
        "import numpy as np"
      ]
    },
    {
      "cell_type": "code",
      "execution_count": 31,
      "metadata": {
        "id": "skTHYVTpW4ot"
      },
      "outputs": [],
      "source": [
        "data = [151, 157, 158, 156, 160,\n",
        "        176, 150, 149, 162, 153,\n",
        "        163, 170, 172, 171, 164,\n",
        "        173, 166, 165, 160, 158]"
      ]
    },
    {
      "cell_type": "markdown",
      "metadata": {},
      "source": [
        "## Cálculo para _fi_"
      ]
    },
    {
      "cell_type": "code",
      "execution_count": 32,
      "metadata": {},
      "outputs": [
        {
          "data": {
            "text/plain": [
              "27"
            ]
          },
          "execution_count": 32,
          "metadata": {},
          "output_type": "execute_result"
        }
      ],
      "source": [
        "amplitude_maxima = max(data) - min(data)  # 176 - 149\n",
        "amplitude_maxima"
      ]
    },
    {
      "cell_type": "code",
      "execution_count": 33,
      "metadata": {},
      "outputs": [
        {
          "data": {
            "text/plain": [
              "9.0"
            ]
          },
          "execution_count": 33,
          "metadata": {},
          "output_type": "execute_result"
        }
      ],
      "source": [
        "faixa_classes = amplitude_maxima / 3  # o 3 é a largura_classe\n",
        "faixa_classes"
      ]
    },
    {
      "cell_type": "code",
      "execution_count": 34,
      "metadata": {},
      "outputs": [
        {
          "data": {
            "text/plain": [
              "array([148., 158., 167., 176.])"
            ]
          },
          "execution_count": 34,
          "metadata": {},
          "output_type": "execute_result"
        }
      ],
      "source": [
        "a = np.arange(min(data), max(data) + 1, faixa_classes)\n",
        "a[0] = a[0] - 1\n",
        "a"
      ]
    },
    {
      "cell_type": "code",
      "execution_count": 35,
      "metadata": {
        "id": "XhDeoGOhY21u"
      },
      "outputs": [],
      "source": [
        "classes = pd.cut(data, bins=a, labels=['149 |-- 158', '158 |-- 167', '167 |-- 176']).value_counts().to_frame().reset_index()\n",
        "classes.columns = ['Alturas em cm', 'fi']"
      ]
    },
    {
      "cell_type": "code",
      "execution_count": 36,
      "metadata": {},
      "outputs": [],
      "source": [
        "classes['fa'] = classes['fi'].cumsum()"
      ]
    },
    {
      "cell_type": "code",
      "execution_count": 37,
      "metadata": {},
      "outputs": [],
      "source": [
        "classes['fr'] = classes['fi'] / classes['fi'].sum() * 100"
      ]
    },
    {
      "cell_type": "code",
      "execution_count": 38,
      "metadata": {},
      "outputs": [],
      "source": [
        "classes['fra'] = classes['fr'].cumsum()"
      ]
    },
    {
      "cell_type": "code",
      "execution_count": 39,
      "metadata": {},
      "outputs": [
        {
          "data": {
            "text/html": [
              "<div>\n",
              "<style scoped>\n",
              "    .dataframe tbody tr th:only-of-type {\n",
              "        vertical-align: middle;\n",
              "    }\n",
              "\n",
              "    .dataframe tbody tr th {\n",
              "        vertical-align: top;\n",
              "    }\n",
              "\n",
              "    .dataframe thead th {\n",
              "        text-align: right;\n",
              "    }\n",
              "</style>\n",
              "<table border=\"1\" class=\"dataframe\">\n",
              "  <thead>\n",
              "    <tr style=\"text-align: right;\">\n",
              "      <th></th>\n",
              "      <th>Alturas em cm</th>\n",
              "      <th>fi</th>\n",
              "      <th>fa</th>\n",
              "      <th>fr</th>\n",
              "      <th>fra</th>\n",
              "    </tr>\n",
              "  </thead>\n",
              "  <tbody>\n",
              "    <tr>\n",
              "      <th>0</th>\n",
              "      <td>149 |-- 158</td>\n",
              "      <td>8</td>\n",
              "      <td>8</td>\n",
              "      <td>40.0</td>\n",
              "      <td>40.0</td>\n",
              "    </tr>\n",
              "    <tr>\n",
              "      <th>1</th>\n",
              "      <td>158 |-- 167</td>\n",
              "      <td>7</td>\n",
              "      <td>15</td>\n",
              "      <td>35.0</td>\n",
              "      <td>75.0</td>\n",
              "    </tr>\n",
              "    <tr>\n",
              "      <th>2</th>\n",
              "      <td>167 |-- 176</td>\n",
              "      <td>5</td>\n",
              "      <td>20</td>\n",
              "      <td>25.0</td>\n",
              "      <td>100.0</td>\n",
              "    </tr>\n",
              "  </tbody>\n",
              "</table>\n",
              "</div>"
            ],
            "text/plain": [
              "  Alturas em cm  fi  fa    fr    fra\n",
              "0   149 |-- 158   8   8  40.0   40.0\n",
              "1   158 |-- 167   7  15  35.0   75.0\n",
              "2   167 |-- 176   5  20  25.0  100.0"
            ]
          },
          "execution_count": 39,
          "metadata": {},
          "output_type": "execute_result"
        }
      ],
      "source": [
        "classes"
      ]
    },
    {
      "cell_type": "code",
      "execution_count": null,
      "metadata": {},
      "outputs": [],
      "source": []
    }
  ],
  "metadata": {
    "colab": {
      "provenance": []
    },
    "kernelspec": {
      "display_name": "Python 3",
      "name": "python3"
    },
    "language_info": {
      "codemirror_mode": {
        "name": "ipython",
        "version": 3
      },
      "file_extension": ".py",
      "mimetype": "text/x-python",
      "name": "python",
      "nbconvert_exporter": "python",
      "pygments_lexer": "ipython3",
      "version": "3.11.1"
    }
  },
  "nbformat": 4,
  "nbformat_minor": 0
}
